{
 "metadata": {
  "language_info": {
   "codemirror_mode": {
    "name": "ipython",
    "version": 3
   },
   "file_extension": ".py",
   "mimetype": "text/x-python",
   "name": "python",
   "nbconvert_exporter": "python",
   "pygments_lexer": "ipython3",
   "version": "3.7.7-final"
  },
  "orig_nbformat": 2,
  "kernelspec": {
   "name": "python_defaultSpec_1597558642354",
   "display_name": "Python 3.7.7 64-bit ('tensorflow_env': conda)"
  }
 },
 "nbformat": 4,
 "nbformat_minor": 2,
 "cells": [
  {
   "cell_type": "code",
   "execution_count": 1,
   "metadata": {},
   "outputs": [],
   "source": [
    "import pandas as pd\n",
    "import matplotlib.pyplot as plt\n",
    "import numpy as np\n",
    "import re\n",
    "import pickle\n",
    "from sklearn.model_selection import train_test_split"
   ]
  },
  {
   "cell_type": "code",
   "execution_count": 2,
   "metadata": {},
   "outputs": [],
   "source": [
    "import nltk \n",
    "from nltk.corpus import stopwords\n",
    "from nltk.stem import SnowballStemmer"
   ]
  },
  {
   "cell_type": "code",
   "execution_count": 3,
   "metadata": {},
   "outputs": [],
   "source": [
    "LABEL = ['Sentiment', 'ID', 'Date', 'Query', 'Username', 'Tweet']"
   ]
  },
  {
   "cell_type": "code",
   "execution_count": 4,
   "metadata": {},
   "outputs": [],
   "source": [
    "data = pd.read_csv(\"data/training.csv\", encoding='ISO-8859-1', header=None, names=LABEL)"
   ]
  },
  {
   "cell_type": "markdown",
   "metadata": {},
   "source": [
    "Sentiment: 0 = negative, 2 = neutral, 4 = positive"
   ]
  },
  {
   "cell_type": "code",
   "execution_count": 11,
   "metadata": {},
   "outputs": [
    {
     "output_type": "execute_result",
     "data": {
      "text/plain": "   Sentiment          ID                          Date     Query  \\\n0          0  1467810369  Mon Apr 06 22:19:45 PDT 2009  NO_QUERY   \n1          0  1467810672  Mon Apr 06 22:19:49 PDT 2009  NO_QUERY   \n2          0  1467810917  Mon Apr 06 22:19:53 PDT 2009  NO_QUERY   \n3          0  1467811184  Mon Apr 06 22:19:57 PDT 2009  NO_QUERY   \n4          0  1467811193  Mon Apr 06 22:19:57 PDT 2009  NO_QUERY   \n\n          Username                                              Tweet  \n0  _TheSpecialOne_  @switchfoot http://twitpic.com/2y1zl - Awww, t...  \n1    scotthamilton  is upset that he can't update his Facebook by ...  \n2         mattycus  @Kenichan I dived many times for the ball. Man...  \n3          ElleCTF    my whole body feels itchy and like its on fire   \n4           Karoli  @nationwideclass no, it's not behaving at all....  ",
      "text/html": "<div>\n<style scoped>\n    .dataframe tbody tr th:only-of-type {\n        vertical-align: middle;\n    }\n\n    .dataframe tbody tr th {\n        vertical-align: top;\n    }\n\n    .dataframe thead th {\n        text-align: right;\n    }\n</style>\n<table border=\"1\" class=\"dataframe\">\n  <thead>\n    <tr style=\"text-align: right;\">\n      <th></th>\n      <th>Sentiment</th>\n      <th>ID</th>\n      <th>Date</th>\n      <th>Query</th>\n      <th>Username</th>\n      <th>Tweet</th>\n    </tr>\n  </thead>\n  <tbody>\n    <tr>\n      <td>0</td>\n      <td>0</td>\n      <td>1467810369</td>\n      <td>Mon Apr 06 22:19:45 PDT 2009</td>\n      <td>NO_QUERY</td>\n      <td>_TheSpecialOne_</td>\n      <td>@switchfoot http://twitpic.com/2y1zl - Awww, t...</td>\n    </tr>\n    <tr>\n      <td>1</td>\n      <td>0</td>\n      <td>1467810672</td>\n      <td>Mon Apr 06 22:19:49 PDT 2009</td>\n      <td>NO_QUERY</td>\n      <td>scotthamilton</td>\n      <td>is upset that he can't update his Facebook by ...</td>\n    </tr>\n    <tr>\n      <td>2</td>\n      <td>0</td>\n      <td>1467810917</td>\n      <td>Mon Apr 06 22:19:53 PDT 2009</td>\n      <td>NO_QUERY</td>\n      <td>mattycus</td>\n      <td>@Kenichan I dived many times for the ball. Man...</td>\n    </tr>\n    <tr>\n      <td>3</td>\n      <td>0</td>\n      <td>1467811184</td>\n      <td>Mon Apr 06 22:19:57 PDT 2009</td>\n      <td>NO_QUERY</td>\n      <td>ElleCTF</td>\n      <td>my whole body feels itchy and like its on fire</td>\n    </tr>\n    <tr>\n      <td>4</td>\n      <td>0</td>\n      <td>1467811193</td>\n      <td>Mon Apr 06 22:19:57 PDT 2009</td>\n      <td>NO_QUERY</td>\n      <td>Karoli</td>\n      <td>@nationwideclass no, it's not behaving at all....</td>\n    </tr>\n  </tbody>\n</table>\n</div>"
     },
     "metadata": {},
     "execution_count": 11
    }
   ],
   "source": [
    "data.head()"
   ]
  },
  {
   "cell_type": "code",
   "execution_count": 18,
   "metadata": {
    "tags": []
   },
   "outputs": [
    {
     "output_type": "stream",
     "name": "stdout",
     "text": "Data Set Size:  1600000\nSentiment - Values:  1600000 | Null Values:  0\nID - Values:  1600000 | Null Values:  0\nDate - Values:  1600000 | Null Values:  0\nQuery - Values:  1600000 | Null Values:  0\nUsername - Values:  1600000 | Null Values:  0\nTweet - Values:  1600000 | Null Values:  0\n"
    }
   ],
   "source": [
    "size = len(data)\n",
    "print(\"Data Set Size: \", size)\n",
    "for col in data.columns:\n",
    "    count = data[col].count()\n",
    "    print(col, end=\" - \")\n",
    "    print(\"Values: \", count, end=\" | \")\n",
    "    print(\"Null Values: \", size - count)"
   ]
  },
  {
   "cell_type": "code",
   "execution_count": 14,
   "metadata": {},
   "outputs": [
    {
     "output_type": "execute_result",
     "data": {
      "text/plain": "4    800000\n0    800000\nName: Sentiment, dtype: int64"
     },
     "metadata": {},
     "execution_count": 14
    }
   ],
   "source": [
    "data.Sentiment.value_counts()\n",
    "# No Neutral Data"
   ]
  },
  {
   "cell_type": "markdown",
   "metadata": {},
   "source": [
    "To learn the sentiment of a text, we probably only need the Tweet and its corresponding Sentiment. "
   ]
  },
  {
   "cell_type": "code",
   "execution_count": 5,
   "metadata": {},
   "outputs": [],
   "source": [
    "data = data[['Tweet', 'Sentiment']]"
   ]
  },
  {
   "cell_type": "code",
   "execution_count": 6,
   "metadata": {},
   "outputs": [
    {
     "output_type": "execute_result",
     "data": {
      "text/plain": "                                               Tweet  Sentiment\n0  @switchfoot http://twitpic.com/2y1zl - Awww, t...          0\n1  is upset that he can't update his Facebook by ...          0\n2  @Kenichan I dived many times for the ball. Man...          0\n3    my whole body feels itchy and like its on fire           0\n4  @nationwideclass no, it's not behaving at all....          0",
      "text/html": "<div>\n<style scoped>\n    .dataframe tbody tr th:only-of-type {\n        vertical-align: middle;\n    }\n\n    .dataframe tbody tr th {\n        vertical-align: top;\n    }\n\n    .dataframe thead th {\n        text-align: right;\n    }\n</style>\n<table border=\"1\" class=\"dataframe\">\n  <thead>\n    <tr style=\"text-align: right;\">\n      <th></th>\n      <th>Tweet</th>\n      <th>Sentiment</th>\n    </tr>\n  </thead>\n  <tbody>\n    <tr>\n      <td>0</td>\n      <td>@switchfoot http://twitpic.com/2y1zl - Awww, t...</td>\n      <td>0</td>\n    </tr>\n    <tr>\n      <td>1</td>\n      <td>is upset that he can't update his Facebook by ...</td>\n      <td>0</td>\n    </tr>\n    <tr>\n      <td>2</td>\n      <td>@Kenichan I dived many times for the ball. Man...</td>\n      <td>0</td>\n    </tr>\n    <tr>\n      <td>3</td>\n      <td>my whole body feels itchy and like its on fire</td>\n      <td>0</td>\n    </tr>\n    <tr>\n      <td>4</td>\n      <td>@nationwideclass no, it's not behaving at all....</td>\n      <td>0</td>\n    </tr>\n  </tbody>\n</table>\n</div>"
     },
     "metadata": {},
     "execution_count": 6
    }
   ],
   "source": [
    "data.head()"
   ]
  },
  {
   "cell_type": "code",
   "execution_count": 7,
   "metadata": {},
   "outputs": [],
   "source": [
    "# Change Sentiment to 0 = Negative and 1 = Positive for simplicity\n",
    "data.loc[data.Sentiment == 4, \"Sentiment\"] = 1"
   ]
  },
  {
   "cell_type": "code",
   "execution_count": 8,
   "metadata": {},
   "outputs": [
    {
     "output_type": "execute_result",
     "data": {
      "text/plain": "                                                     Tweet  Sentiment\n1599995  Just woke up. Having no school is the best fee...          1\n1599996  TheWDB.com - Very cool to hear old Walt interv...          1\n1599997  Are you ready for your MoJo Makeover? Ask me f...          1\n1599998  Happy 38th Birthday to my boo of alll time!!! ...          1\n1599999  happy #charitytuesday @theNSPCC @SparksCharity...          1",
      "text/html": "<div>\n<style scoped>\n    .dataframe tbody tr th:only-of-type {\n        vertical-align: middle;\n    }\n\n    .dataframe tbody tr th {\n        vertical-align: top;\n    }\n\n    .dataframe thead th {\n        text-align: right;\n    }\n</style>\n<table border=\"1\" class=\"dataframe\">\n  <thead>\n    <tr style=\"text-align: right;\">\n      <th></th>\n      <th>Tweet</th>\n      <th>Sentiment</th>\n    </tr>\n  </thead>\n  <tbody>\n    <tr>\n      <td>1599995</td>\n      <td>Just woke up. Having no school is the best fee...</td>\n      <td>1</td>\n    </tr>\n    <tr>\n      <td>1599996</td>\n      <td>TheWDB.com - Very cool to hear old Walt interv...</td>\n      <td>1</td>\n    </tr>\n    <tr>\n      <td>1599997</td>\n      <td>Are you ready for your MoJo Makeover? Ask me f...</td>\n      <td>1</td>\n    </tr>\n    <tr>\n      <td>1599998</td>\n      <td>Happy 38th Birthday to my boo of alll time!!! ...</td>\n      <td>1</td>\n    </tr>\n    <tr>\n      <td>1599999</td>\n      <td>happy #charitytuesday @theNSPCC @SparksCharity...</td>\n      <td>1</td>\n    </tr>\n  </tbody>\n</table>\n</div>"
     },
     "metadata": {},
     "execution_count": 8
    }
   ],
   "source": [
    "data.tail()"
   ]
  },
  {
   "cell_type": "markdown",
   "metadata": {},
   "source": [
    "In a tweet there might be several text that're irrelevant for doing sentiment analysis, such as tweeting to certain users (@username), including website links (something.com, http://something.com, or https://something.com), we should also remove punctuation or symbols."
   ]
  },
  {
   "cell_type": "code",
   "execution_count": 9,
   "metadata": {},
   "outputs": [],
   "source": [
    "clean_regex = r'@\\S+|https?:\\S+|\\S+\\.(com|edu|net)|[^a-zA-Z0-9 ]+'\n",
    "stop = stopwords.words('english')\n",
    "stem = SnowballStemmer('english')"
   ]
  },
  {
   "cell_type": "code",
   "execution_count": 10,
   "metadata": {},
   "outputs": [],
   "source": [
    "def clean_text(tweet):\n",
    "    tweet = re.sub(clean_regex, '', tweet.lower()).strip()\n",
    "    res = []\n",
    "    for word in tweet.split():\n",
    "        if word not in stop:\n",
    "            res.append(stem.stem(word))\n",
    "    return ' '.join(res)"
   ]
  },
  {
   "cell_type": "code",
   "execution_count": 11,
   "metadata": {},
   "outputs": [],
   "source": [
    "data['Tweet'] = data['Tweet'].apply(lambda col: clean_text(col))"
   ]
  },
  {
   "cell_type": "code",
   "execution_count": 12,
   "metadata": {},
   "outputs": [
    {
     "output_type": "execute_result",
     "data": {
      "text/plain": "                                               Tweet  Sentiment\n0  awww that bummer shoulda got david carr third day          0\n1  upset cant updat facebook text might cri resul...          0\n2    dive mani time ball manag save 50 rest go bound          0\n3                    whole bodi feel itchi like fire          0\n4                              behav im mad cant see          0",
      "text/html": "<div>\n<style scoped>\n    .dataframe tbody tr th:only-of-type {\n        vertical-align: middle;\n    }\n\n    .dataframe tbody tr th {\n        vertical-align: top;\n    }\n\n    .dataframe thead th {\n        text-align: right;\n    }\n</style>\n<table border=\"1\" class=\"dataframe\">\n  <thead>\n    <tr style=\"text-align: right;\">\n      <th></th>\n      <th>Tweet</th>\n      <th>Sentiment</th>\n    </tr>\n  </thead>\n  <tbody>\n    <tr>\n      <td>0</td>\n      <td>awww that bummer shoulda got david carr third day</td>\n      <td>0</td>\n    </tr>\n    <tr>\n      <td>1</td>\n      <td>upset cant updat facebook text might cri resul...</td>\n      <td>0</td>\n    </tr>\n    <tr>\n      <td>2</td>\n      <td>dive mani time ball manag save 50 rest go bound</td>\n      <td>0</td>\n    </tr>\n    <tr>\n      <td>3</td>\n      <td>whole bodi feel itchi like fire</td>\n      <td>0</td>\n    </tr>\n    <tr>\n      <td>4</td>\n      <td>behav im mad cant see</td>\n      <td>0</td>\n    </tr>\n  </tbody>\n</table>\n</div>"
     },
     "metadata": {},
     "execution_count": 12
    }
   ],
   "source": [
    "data.head()"
   ]
  },
  {
   "cell_type": "code",
   "execution_count": 13,
   "metadata": {},
   "outputs": [],
   "source": [
    "data.to_csv(\"processed_data/processed_data.csv\", encoding='utf-8')"
   ]
  },
  {
   "cell_type": "code",
   "execution_count": 27,
   "metadata": {},
   "outputs": [],
   "source": [
    "data = pd.read_csv(\"processed_data/processed_data.csv\")\n",
    "data = data.fillna('')"
   ]
  },
  {
   "cell_type": "code",
   "execution_count": 4,
   "metadata": {
    "tags": []
   },
   "outputs": [
    {
     "output_type": "stream",
     "name": "stdout",
     "text": "39.708108125\n40\n"
    }
   ],
   "source": [
    "avg_len = sum(data['Tweet'].apply(lambda x: len(x)))/len(data)\n",
    "print(avg_len)\n",
    "avg = round(avg_len)\n",
    "print(avg)"
   ]
  },
  {
   "cell_type": "code",
   "execution_count": 28,
   "metadata": {},
   "outputs": [],
   "source": [
    "train, test = train_test_split(data, test_size=0.2, random_state=12)"
   ]
  },
  {
   "cell_type": "code",
   "execution_count": 29,
   "metadata": {
    "tags": []
   },
   "outputs": [
    {
     "output_type": "stream",
     "name": "stdout",
     "text": "(320000, 2)\n(1280000, 2)\n"
    }
   ],
   "source": [
    "print(test.shape)\n",
    "print(train.shape)"
   ]
  },
  {
   "cell_type": "code",
   "execution_count": 30,
   "metadata": {},
   "outputs": [],
   "source": [
    "train.to_csv(\"processed_data/train.csv\")\n",
    "test.to_csv(\"processed_data/test.csv\")"
   ]
  },
  {
   "cell_type": "code",
   "execution_count": 5,
   "metadata": {},
   "outputs": [],
   "source": [
    "from tensorflow.keras.preprocessing.text import Tokenizer\n",
    "from tensorflow.keras.preprocessing.sequence import pad_sequences"
   ]
  },
  {
   "cell_type": "code",
   "execution_count": 31,
   "metadata": {},
   "outputs": [
    {
     "output_type": "execute_result",
     "data": {
      "text/plain": "328639"
     },
     "metadata": {},
     "execution_count": 31
    }
   ],
   "source": [
    "t = Tokenizer()\n",
    "t.fit_on_texts(train.Tweet)\n",
    "vocab_size = len(t.word_index) + 1\n",
    "vocab_size"
   ]
  },
  {
   "cell_type": "code",
   "execution_count": 32,
   "metadata": {},
   "outputs": [],
   "source": [
    "X_train = pad_sequences(t.texts_to_sequences(train.Tweet),maxlen = avg)\n",
    "X_test = pad_sequences(t.texts_to_sequences(test.Tweet), maxlen = avg)\n",
    "y_train = list(train.Sentiment)\n",
    "y_test = list(test.Sentiment)"
   ]
  },
  {
   "cell_type": "code",
   "execution_count": 33,
   "metadata": {},
   "outputs": [],
   "source": [
    "pickle.dump(X_train, open(\"processed_data/X_train.pyb\", \"wb\"))\n",
    "pickle.dump(X_test, open(\"processed_data/X_test.pyb\", \"wb\"))\n",
    "pickle.dump(y_train, open(\"processed_data/y_train.pyb\", \"wb\"))\n",
    "pickle.dump(y_test, open(\"processed_data/y_test.pyb\", \"wb\"))"
   ]
  },
  {
   "cell_type": "code",
   "execution_count": 19,
   "metadata": {},
   "outputs": [],
   "source": [
    "from tensorflow.keras.models import Sequential\n",
    "from tensorflow.keras.layers import Conv1D, Bidirectional, LSTM, Dense, Input, Dropout\n",
    "from tensorflow.keras.layers import SpatialDropout1D, Embedding\n",
    "from tensorflow.keras.optimizers import Adam"
   ]
  },
  {
   "cell_type": "code",
   "execution_count": 18,
   "metadata": {},
   "outputs": [],
   "source": [
    "model = Sequential([\n",
    "    Embedding(input_dim=vocab_size, output_dim=256, input_length=avg),\n",
    "    SpatialDropout1D(0.4),\n",
    "    Conv1D(128, 5, activation='relu'),\n",
    "    Bidirectional(LSTM(128, dropout=0.2, recurrent_dropout=0.2)),\n",
    "    Dense(64, activation='relu'),\n",
    "    Dropout(0.4),\n",
    "    Dense(1, activation='sigmoid')\n",
    "])"
   ]
  },
  {
   "cell_type": "code",
   "execution_count": 21,
   "metadata": {},
   "outputs": [],
   "source": [
    "model.compile(optimizer=Adam(), loss='binary_crossentropy', metrics=['accuracy'])"
   ]
  },
  {
   "cell_type": "code",
   "execution_count": null,
   "metadata": {},
   "outputs": [],
   "source": []
  }
 ]
}